{
 "cells": [
  {
   "cell_type": "markdown",
   "metadata": {},
   "source": [
    "#蓍草卜卦 "
   ]
  },
  {
   "cell_type": "markdown",
   "metadata": {},
   "source": [
    "大衍之数五十，其用四十有九。分而为二以象两，挂一以象三，揲之以四以象四时，归奇于扐以象闰。五岁再闰，故再扐而后挂。天一，地二；天三，地四；天五，地六；天七，地八；天九，地十。天数五，地数五。五位相得而各有合，天数二十有五，地数三十，凡天地之数五十有五，此所以成变化而行鬼神也。乾之策二百一十有六，坤之策百四十有四，凡三百六十，当期之日。二篇之策，万有一千五百二十，当万物之数也。是故四营而成《易》，十有八变而成卦，八卦而小成。引而伸之，触类而长之，天下之能事毕矣。显道神德行，是故可与酬酢，可与祐神矣。子曰：“知变化之道者，其知神之所为乎。”\n",
    "\n",
    "大衍之数五十，存一不用，构造天地人三者，历经三变，第一次的余数是5或9，第二次的是4或8，第三次的是4或8，剩下的数量除以4就是结果。即为一爻，算六爻要一个小时。古人构造随机数的方法太费时间啦。用Python写个程序来搞吧！"
   ]
  },
  {
   "cell_type": "code",
   "execution_count": 3,
   "metadata": {
    "collapsed": true
   },
   "outputs": [],
   "source": [
    "import random"
   ]
  },
  {
   "cell_type": "code",
   "execution_count": 213,
   "metadata": {
    "collapsed": true
   },
   "outputs": [],
   "source": [
    "def sepSkyEarth(data):\n",
    "    sky =  random.randint(1, data-2)  \n",
    "    earth = data - sky\n",
    "    earth -= 1\n",
    "    return sky , earth\n",
    "\n",
    "\n",
    "def getRemainder(num):\n",
    "    rm = num % 4\n",
    "    if rm == 0:\n",
    "        rm = 4\n",
    "    return rm\n",
    "\n",
    "def getChange(data):\n",
    "    sky, earth = sepSkyEarth(data)\n",
    "    skyRemainder = getRemainder(sky)\n",
    "    earthRemainder = getRemainder(earth)\n",
    "    change = skyRemainder + earthRemainder + 1\n",
    "    data = data - change\n",
    "    return sky, earth, change, data\n",
    "\n",
    "def getYao(data):\n",
    "    sky, earth, firstChange, data = getChange(data)\n",
    "    sky, earth, secondChange, data = getChange(data)\n",
    "    sky, earth, thirdChange, data = getChange(data)\n",
    "    yao  = data/4\n",
    "    return yao, firstChange, secondChange, thirdChange\n",
    "\n",
    "def sixYao():\n",
    "    yao1 = getYao(data = 50 - 1)[0]\n",
    "    yao2 = getYao(data = 50 - 1)[0]\n",
    "    yao3 = getYao(data = 50 - 1)[0]\n",
    "    yao4 = getYao(data = 50 - 1)[0]\n",
    "    yao5 = getYao(data = 50 - 1)[0]\n",
    "    yao6 = getYao(data = 50 - 1)[0]\n",
    "    return[yao1, yao2, yao3, yao4, yao5, yao6]\n",
    "\n",
    "def fixYao(num):\n",
    "    if num == 6 or num == 9:\n",
    "        print \"there is a changing predict! Also run changePredict()\"\n",
    "    return num % 2\n",
    "    \n",
    "\n",
    "def changeYao(num):\n",
    "    if num == 6:\n",
    "        num = 1\n",
    "    elif num == 9:\n",
    "        num = 2\n",
    "    num = num % 2\n",
    "    return(num)\n",
    "\n",
    "def fixPredict(pred):\n",
    "    fixprd = [fixYao(i) for i in pred]\n",
    "    fixprd = list2str(fixprd)\n",
    "    return fixprd\n",
    "\n",
    "def list2str(l):\n",
    "    si = ''\n",
    "    for i in l:\n",
    "        si = si +  str(i)\n",
    "    return si\n",
    "\n",
    "def changePredict(pred):\n",
    "    changeprd = [changeYao(i) for i in pred]\n",
    "    changeprd = list2str(changeprd)\n",
    "    return changeprd\n",
    "\n",
    "def getPredict():\n",
    "    pred = sixYao()\n",
    "    fixPred = fixPredict(pred)\n",
    "    if 6 in pred or 9 in pred:\n",
    "        changePred = changePredict(pred)\n",
    "    else:\n",
    "        changePred = None\n",
    "    return fixPred, changePred  \n",
    "\n",
    "def interpretPredict(now, future):\n",
    "    dt = {'111111':'乾','011111':'夬','000000':'坤','010001':'屯','100010':'蒙','010111':'需','111010':'讼','000010':'师',\n",
    "'010000':'比','110111':'小畜','111011':'履','000111':'泰','111000':'否','111101':'同人','10111':'大有','000100':'谦',\n",
    "'001000':'豫','011001':'随','100110':'蛊','000011':'临','110000':'观','101001':'噬嗑','100101':'贲','100000':'剥',\n",
    "'000001':'复','111001':'无妄','100111':'大畜','100001':'颐','011110':'大过','010010':'坎','101101':'离','011100':'咸',\n",
    "'001110':'恒','111100':'遁','001111':'大壮','101000':'晋','000101':'明夷','110101':'家人','101011':'睽','010100':'蹇',\n",
    "'001010':'解','100011':'损','110001':'益','111110':'姤','011000':'萃','000110':'升','011010':'困','010110':'井',\n",
    "'011101':'革','101110':'鼎','001001':'震','100100':'艮','110100':'渐','001011':'归妹','001101':'丰','101100':'旅',\n",
    "'110110':'巽','011011':'兑','110010':'涣','010011':'节','110011':'中孚','001100':'小过','010101':'既济','101010':'未济'}\n",
    "    if future:\n",
    "        name = dt[now] + ' & ' + dt[future]\n",
    "    else:\n",
    "        name = dt[now]\n",
    "    print name"
   ]
  },
  {
   "cell_type": "markdown",
   "metadata": {},
   "source": [
    "#大衍之数五十，存一不用"
   ]
  },
  {
   "cell_type": "code",
   "execution_count": 104,
   "metadata": {
    "collapsed": false
   },
   "outputs": [],
   "source": [
    "data = 50 - 1"
   ]
  },
  {
   "cell_type": "markdown",
   "metadata": {},
   "source": [
    "###一变"
   ]
  },
  {
   "cell_type": "code",
   "execution_count": 105,
   "metadata": {
    "collapsed": false
   },
   "outputs": [
    {
     "name": "stdout",
     "output_type": "stream",
     "text": [
      "32 \n",
      "16 \n",
      "9 \n",
      "40\n"
     ]
    }
   ],
   "source": [
    "sky, earth, firstChange, data = getChange(data)\n",
    "print sky, '\\n', earth, '\\n',firstChange, '\\n', data"
   ]
  },
  {
   "cell_type": "markdown",
   "metadata": {},
   "source": [
    "###二变"
   ]
  },
  {
   "cell_type": "code",
   "execution_count": 106,
   "metadata": {
    "collapsed": false
   },
   "outputs": [
    {
     "name": "stdout",
     "output_type": "stream",
     "text": [
      "15 \n",
      "24 \n",
      "8 \n",
      "32\n"
     ]
    }
   ],
   "source": [
    "sky, earth, secondChange, data = getChange(data)\n",
    "print sky, '\\n', earth, '\\n',secondChange, '\\n', data"
   ]
  },
  {
   "cell_type": "markdown",
   "metadata": {},
   "source": [
    "###三变"
   ]
  },
  {
   "cell_type": "code",
   "execution_count": 107,
   "metadata": {
    "collapsed": false
   },
   "outputs": [
    {
     "name": "stdout",
     "output_type": "stream",
     "text": [
      "10 \n",
      "21 \n",
      "4 \n",
      "28\n"
     ]
    }
   ],
   "source": [
    "sky, earth, thirdChange, data = getChange(data)\n",
    "print sky, '\\n', earth, '\\n',thirdChange, '\\n', data"
   ]
  },
  {
   "cell_type": "markdown",
   "metadata": {},
   "source": [
    "#得到六爻及变卦"
   ]
  },
  {
   "cell_type": "code",
   "execution_count": 234,
   "metadata": {
    "collapsed": false
   },
   "outputs": [
    {
     "name": "stdout",
     "output_type": "stream",
     "text": [
      "there is a changing predict! Also run changePredict()\n",
      "there is a changing predict! Also run changePredict()\n",
      "there is a changing predict! Also run changePredict()\n"
     ]
    },
    {
     "data": {
      "text/plain": [
       "('110101', '000001')"
      ]
     },
     "execution_count": 234,
     "metadata": {},
     "output_type": "execute_result"
    }
   ],
   "source": [
    "getPredict()"
   ]
  },
  {
   "cell_type": "code",
   "execution_count": 233,
   "metadata": {
    "collapsed": false
   },
   "outputs": [
    {
     "name": "stdout",
     "output_type": "stream",
     "text": [
      "there is a changing predict! Also run changePredict()\n",
      "there is a changing predict! Also run changePredict()\n",
      "there is a changing predict! Also run changePredict()\n"
     ]
    },
    {
     "data": {
      "text/plain": [
       "('011110', '110100')"
      ]
     },
     "execution_count": 233,
     "metadata": {},
     "output_type": "execute_result"
    }
   ],
   "source": [
    "getPredict()"
   ]
  },
  {
   "cell_type": "code",
   "execution_count": 251,
   "metadata": {
    "collapsed": false
   },
   "outputs": [
    {
     "data": {
      "text/plain": [
       "('101100', None)"
      ]
     },
     "execution_count": 251,
     "metadata": {},
     "output_type": "execute_result"
    }
   ],
   "source": [
    "getPredict()"
   ]
  },
  {
   "cell_type": "markdown",
   "metadata": {},
   "source": [
    "#得到卦名"
   ]
  },
  {
   "cell_type": "code",
   "execution_count": 232,
   "metadata": {
    "collapsed": false
   },
   "outputs": [
    {
     "name": "stdout",
     "output_type": "stream",
     "text": [
      "there is a changing predict! Also run changePredict()\n",
      "屯 & 比\n"
     ]
    }
   ],
   "source": [
    "fixPred, changePred   = getPredict()\n",
    "interpretPredict(fixPred, changePred  )"
   ]
  },
  {
   "cell_type": "code",
   "execution_count": 1,
   "metadata": {
    "collapsed": false
   },
   "outputs": [],
   "source": [
    "\n",
    "#http://baike.fututa.com/zhouyi64gua/\n",
    "\n",
    "import urllib2\n",
    "from bs4 import BeautifulSoup\n",
    "import os\n",
    "\n",
    "# set work directory\n",
    "os.chdir('/Users/chengjun/github/iching/')\n",
    "\n",
    "dt = {'111111':'乾','011111':'夬','000000':'坤','010001':'屯','100010':'蒙','010111':'需','111010':'讼','000010':'师',\n",
    "    '010000':'比','110111':'小畜','111011':'履','000111':'泰','111000':'否','111101':'同人','10111':'大有','000100':'谦',\n",
    "    '001000':'豫','011001':'随','100110':'蛊','000011':'临','110000':'观','101001':'噬嗑','100101':'贲','100000':'剥',\n",
    "    '000001':'复','111001':'无妄','100111':'大畜','100001':'颐','011110':'大过','010010':'坎','101101':'离','011100':'咸',\n",
    "    '001110':'恒','111100':'遁','001111':'大壮','101000':'晋','000101':'明夷','110101':'家人','101011':'睽','010100':'蹇',\n",
    "    '001010':'解','100011':'损','110001':'益','111110':'姤','011000':'萃','000110':'升','011010':'困','010110':'井',\n",
    "    '011101':'革','101110':'鼎','001001':'震','100100':'艮','110100':'渐','001011':'归妹','001101':'丰','101100':'旅',\n",
    "    '110110':'巽','011011':'兑','110010':'涣','010011':'节','110011':'中孚','001100':'小过','010101':'既济','101010':'未济'}\n",
    "\n",
    "\n",
    "dr = {}\n",
    "for i, j in dt.iteritems():\n",
    "    dr[unicode(j, 'utf8')]= i"
   ]
  },
  {
   "cell_type": "code",
   "execution_count": 2,
   "metadata": {
    "collapsed": false
   },
   "outputs": [],
   "source": [
    "url = \"http://baike.fututa.com/zhouyi64gua/\"\n",
    "content = urllib2.urlopen(url).read() #获取网页的html文本\n",
    "soup = BeautifulSoup(content) \n",
    "articles = soup.find_all('div', {'class', 'gualist'})[0].find_all('a')\n",
    "links = [i['href'] for i in articles]\n",
    "\n"
   ]
  },
  {
   "cell_type": "code",
   "execution_count": 3,
   "metadata": {
    "collapsed": false
   },
   "outputs": [
    {
     "data": {
      "text/plain": [
       "[u'http://baike.fututa.com/a5738', u'http://baike.fututa.com/a5739']"
      ]
     },
     "execution_count": 3,
     "metadata": {},
     "output_type": "execute_result"
    }
   ],
   "source": [
    "links[:2]"
   ]
  },
  {
   "cell_type": "code",
   "execution_count": 8,
   "metadata": {
    "collapsed": false
   },
   "outputs": [
    {
     "name": "stdout",
     "output_type": "stream",
     "text": [
      "http://baike.fututa.com/a5738 done\n",
      "http://baike.fututa.com/a5739 done\n",
      "http://baike.fututa.com/a5740 done\n",
      "http://baike.fututa.com/a5741 done\n",
      "http://baike.fututa.com/a5742 done\n",
      "http://baike.fututa.com/a5743 done\n",
      "http://baike.fututa.com/a5744 done\n",
      "http://baike.fututa.com/a5745 done\n",
      "http://baike.fututa.com/a5746 done\n",
      "http://baike.fututa.com/a5747 done\n",
      "http://baike.fututa.com/a5748 done\n",
      "http://baike.fututa.com/a5749 done\n",
      "http://baike.fututa.com/a5750 done\n",
      "http://baike.fututa.com/a5751 done\n",
      "http://baike.fututa.com/a5752 done\n",
      "http://baike.fututa.com/a5753 done\n",
      "http://baike.fututa.com/a5754 done\n",
      "http://baike.fututa.com/a5755 done\n"
     ]
    },
    {
     "ename": "KeyboardInterrupt",
     "evalue": "",
     "output_type": "error",
     "traceback": [
      "\u001b[0;31m---------------------------------------------------------------------------\u001b[0m",
      "\u001b[0;31mKeyboardInterrupt\u001b[0m                         Traceback (most recent call last)",
      "\u001b[0;32m<ipython-input-8-9fc359f643ec>\u001b[0m in \u001b[0;36m<module>\u001b[0;34m()\u001b[0m\n\u001b[1;32m      2\u001b[0m \u001b[0;34m\u001b[0m\u001b[0m\n\u001b[1;32m      3\u001b[0m \u001b[0;32mfor\u001b[0m \u001b[0mj\u001b[0m \u001b[0;32min\u001b[0m \u001b[0mlinks\u001b[0m\u001b[0;34m:\u001b[0m\u001b[0;34m\u001b[0m\u001b[0m\n\u001b[0;32m----> 4\u001b[0;31m     \u001b[0mghtml\u001b[0m \u001b[0;34m=\u001b[0m \u001b[0murllib2\u001b[0m\u001b[0;34m.\u001b[0m\u001b[0murlopen\u001b[0m\u001b[0;34m(\u001b[0m\u001b[0mj\u001b[0m\u001b[0;34m)\u001b[0m\u001b[0;34m.\u001b[0m\u001b[0mread\u001b[0m\u001b[0;34m(\u001b[0m\u001b[0;34m)\u001b[0m \u001b[0;31m#获取网页的html文本\u001b[0m\u001b[0;34m\u001b[0m\u001b[0m\n\u001b[0m\u001b[1;32m      5\u001b[0m     \u001b[0;32mprint\u001b[0m \u001b[0mj\u001b[0m\u001b[0;34m,\u001b[0m \u001b[0;34m'done'\u001b[0m\u001b[0;34m\u001b[0m\u001b[0m\n\u001b[1;32m      6\u001b[0m     \u001b[0mgua\u001b[0m \u001b[0;34m=\u001b[0m \u001b[0mBeautifulSoup\u001b[0m\u001b[0;34m(\u001b[0m\u001b[0mghtml\u001b[0m\u001b[0;34m)\u001b[0m\u001b[0;34m\u001b[0m\u001b[0m\n",
      "\u001b[0;32m/Users/chengjun/anaconda/lib/python2.7/socket.pyc\u001b[0m in \u001b[0;36mread\u001b[0;34m(self, size)\u001b[0m\n\u001b[1;32m    353\u001b[0m             \u001b[0;32mwhile\u001b[0m \u001b[0mTrue\u001b[0m\u001b[0;34m:\u001b[0m\u001b[0;34m\u001b[0m\u001b[0m\n\u001b[1;32m    354\u001b[0m                 \u001b[0;32mtry\u001b[0m\u001b[0;34m:\u001b[0m\u001b[0;34m\u001b[0m\u001b[0m\n\u001b[0;32m--> 355\u001b[0;31m                     \u001b[0mdata\u001b[0m \u001b[0;34m=\u001b[0m \u001b[0mself\u001b[0m\u001b[0;34m.\u001b[0m\u001b[0m_sock\u001b[0m\u001b[0;34m.\u001b[0m\u001b[0mrecv\u001b[0m\u001b[0;34m(\u001b[0m\u001b[0mrbufsize\u001b[0m\u001b[0;34m)\u001b[0m\u001b[0;34m\u001b[0m\u001b[0m\n\u001b[0m\u001b[1;32m    356\u001b[0m                 \u001b[0;32mexcept\u001b[0m \u001b[0merror\u001b[0m\u001b[0;34m,\u001b[0m \u001b[0me\u001b[0m\u001b[0;34m:\u001b[0m\u001b[0;34m\u001b[0m\u001b[0m\n\u001b[1;32m    357\u001b[0m                     \u001b[0;32mif\u001b[0m \u001b[0me\u001b[0m\u001b[0;34m.\u001b[0m\u001b[0margs\u001b[0m\u001b[0;34m[\u001b[0m\u001b[0;36m0\u001b[0m\u001b[0;34m]\u001b[0m \u001b[0;34m==\u001b[0m \u001b[0mEINTR\u001b[0m\u001b[0;34m:\u001b[0m\u001b[0;34m\u001b[0m\u001b[0m\n",
      "\u001b[0;32m/Users/chengjun/anaconda/lib/python2.7/httplib.pyc\u001b[0m in \u001b[0;36mread\u001b[0;34m(self, amt)\u001b[0m\n\u001b[1;32m    610\u001b[0m         \u001b[0;31m# connection, and the user is reading more bytes than will be provided\u001b[0m\u001b[0;34m\u001b[0m\u001b[0;34m\u001b[0m\u001b[0m\n\u001b[1;32m    611\u001b[0m         \u001b[0;31m# (for example, reading in 1k chunks)\u001b[0m\u001b[0;34m\u001b[0m\u001b[0;34m\u001b[0m\u001b[0m\n\u001b[0;32m--> 612\u001b[0;31m         \u001b[0ms\u001b[0m \u001b[0;34m=\u001b[0m \u001b[0mself\u001b[0m\u001b[0;34m.\u001b[0m\u001b[0mfp\u001b[0m\u001b[0;34m.\u001b[0m\u001b[0mread\u001b[0m\u001b[0;34m(\u001b[0m\u001b[0mamt\u001b[0m\u001b[0;34m)\u001b[0m\u001b[0;34m\u001b[0m\u001b[0m\n\u001b[0m\u001b[1;32m    613\u001b[0m         \u001b[0;32mif\u001b[0m \u001b[0;32mnot\u001b[0m \u001b[0ms\u001b[0m \u001b[0;32mand\u001b[0m \u001b[0mamt\u001b[0m\u001b[0;34m:\u001b[0m\u001b[0;34m\u001b[0m\u001b[0m\n\u001b[1;32m    614\u001b[0m             \u001b[0;31m# Ideally, we would raise IncompleteRead if the content-length\u001b[0m\u001b[0;34m\u001b[0m\u001b[0;34m\u001b[0m\u001b[0m\n",
      "\u001b[0;32m/Users/chengjun/anaconda/lib/python2.7/socket.pyc\u001b[0m in \u001b[0;36mread\u001b[0;34m(self, size)\u001b[0m\n\u001b[1;32m    382\u001b[0m                 \u001b[0;31m# fragmentation issues on many platforms.\u001b[0m\u001b[0;34m\u001b[0m\u001b[0;34m\u001b[0m\u001b[0m\n\u001b[1;32m    383\u001b[0m                 \u001b[0;32mtry\u001b[0m\u001b[0;34m:\u001b[0m\u001b[0;34m\u001b[0m\u001b[0m\n\u001b[0;32m--> 384\u001b[0;31m                     \u001b[0mdata\u001b[0m \u001b[0;34m=\u001b[0m \u001b[0mself\u001b[0m\u001b[0;34m.\u001b[0m\u001b[0m_sock\u001b[0m\u001b[0;34m.\u001b[0m\u001b[0mrecv\u001b[0m\u001b[0;34m(\u001b[0m\u001b[0mleft\u001b[0m\u001b[0;34m)\u001b[0m\u001b[0;34m\u001b[0m\u001b[0m\n\u001b[0m\u001b[1;32m    385\u001b[0m                 \u001b[0;32mexcept\u001b[0m \u001b[0merror\u001b[0m\u001b[0;34m,\u001b[0m \u001b[0me\u001b[0m\u001b[0;34m:\u001b[0m\u001b[0;34m\u001b[0m\u001b[0m\n\u001b[1;32m    386\u001b[0m                     \u001b[0;32mif\u001b[0m \u001b[0me\u001b[0m\u001b[0;34m.\u001b[0m\u001b[0margs\u001b[0m\u001b[0;34m[\u001b[0m\u001b[0;36m0\u001b[0m\u001b[0;34m]\u001b[0m \u001b[0;34m==\u001b[0m \u001b[0mEINTR\u001b[0m\u001b[0;34m:\u001b[0m\u001b[0;34m\u001b[0m\u001b[0m\n",
      "\u001b[0;31mKeyboardInterrupt\u001b[0m: "
     ]
    }
   ],
   "source": [
    "dtext = {}\n",
    "\n",
    "from time import sleep\n",
    "\n",
    "for j in links:\n",
    "    sleep(5)\n",
    "    ghtml = urllib2.urlopen(j).read() #获取网页的html文本\n",
    "    print j, 'done'\n",
    "    gua = BeautifulSoup(ghtml) \n",
    "    guaName =  gua.title.text.split('_')[1].split(u'卦')[0]\n",
    "    guaId = dr[guaName]\n",
    "    guawen = gua.find_all('div', {'class', 'gua_wen'})\n",
    "    guaText = []\n",
    "    for i in guawen:\n",
    "        guaText.append(i.get_text() + '\\n\\n')\n",
    "    guaText = ''.join(guaText)\n",
    "    dtext[guaId] = guaText"
   ]
  },
  {
   "cell_type": "code",
   "execution_count": 5,
   "metadata": {
    "collapsed": false
   },
   "outputs": [
    {
     "data": {
      "text/plain": [
       "2"
      ]
     },
     "execution_count": 5,
     "metadata": {},
     "output_type": "execute_result"
    }
   ],
   "source": [
    "len(dtext)"
   ]
  },
  {
   "cell_type": "code",
   "execution_count": 6,
   "metadata": {
    "collapsed": false
   },
   "outputs": [
    {
     "name": "stdout",
     "output_type": "stream",
     "text": [
      "乾卦原文乾。元，亨，利，贞。象曰：天行健，君子以自强不息。白话文解释乾卦：大吉大利，吉利的贞卜。《象辞》说：天道刚健，运行不已。君子观此卦象，从而以天为法，自强不息。\n",
      "\n",
      "《断易天机》解乾象征天，六阳爻构成乾卦，为《易经》六十四卦之首。纯阳刚建，其性刚强，其行劲健，大通而至正，兆示大通而有利，但须行正道，方可永远亨通。\n",
      "\n",
      "北宋易学家邵雍解刚健旺盛，发育之功；完事顺利，谨防太强。得此卦者，天行刚健，自强不息，名利双收之象，宜把握机会，争取成果。女人得此卦则有过于刚直之嫌。\n",
      "\n",
      "台湾国学大儒傅佩荣解时运：临事刚健，自强不息。财运：施比受有福，不利买而利卖。家宅：积善有余庆；女子过刚宜慎重。身体：保健有恒。\n",
      "\n",
      "传统解卦这个卦是同卦（下乾上乾）相叠。象征天，喻龙（德才的君子），又象征纯粹的阳和健，表明兴盛强健。乾卦是根据万物变通的道理，以“元、亨、利、贞”为卦辞，表示吉祥如意，教导人遵守天道的德行。大象：天行刚健，自强不息。运势：飞龙在天，名利双收之象，宜把握机会，争取成果。事业：大吉大利，万事如意，心想事成，自有天佑，春风得意，事业如日中天。但阳气已达顶点，盛极必衰，务须提高警惕，小心谨慎。力戒骄傲，冷静处世，心境平和，如是则能充分发挥才智，保证事业成功。经商：十分顺利，有发展向上的大好机会。但切勿操之过急，宜冷静分析形势，把握时机，坚持商业道德，冷静对待中途出现的困难，定会有满意的结果。求名：潜在能力尚未充分发挥，只要进一步努力，克服骄傲自满情绪，进业修德，以渊博学识和高尚品质，成君子之名。婚恋：阳盛阴衰，但刚柔可相济，形成美满结果。女性温柔者更佳。决策：可成就大的事业。坚持此卦的刚健、正直、公允的实质，修养德行，积累知识，坚定信念，自强不息，必能克服困难，消除灾难。\n",
      "\n",
      "台湾张铭仁解卦天：表示极阳之象，为纯卦、六冲卦，是大好、大坏的卦象。对事一般为吉象，为主管、负责任，可以任用担当大事，或开业当老板，得此卦都属吉象，只是必须有一个好的助理更佳，升官、考试、升迁都较有利。解释：刚健稳固。特性：积极，刚毅，努力，认真，有耐性，坚忍，正派，主动，慷慨，严律，重名誉。运势：有地位擢升、名利双收之象，功名荣显得贵子。六亲和睦，凡事谦和为贵，可吉。家运：繁昌兴隆，须小心口舌之争。疾病：病情恶化，宜细心调养，注意头、脑、骨髓等病变。胎孕：有不安之兆，宜小心保养。子女：儿女健康，幸福有为。周转：虽不成问题，尚宜心平气和来处理。买卖：小利可得，大则勿取，勿太张扬为吉。等人：一定会来。寻人：已远走高飞，不易找到，在西北方向。失物：可望寻回。外出：利于出行，结伴而行更佳。考试：有望取得好成绩。诉讼：宜据理力争。求事：有贵人提拔，可发展，称心。改行：占得此卦不宜改行。开业：开业者需要耐心观望。\n",
      "\n",
      "初九爻辞初九。潜龙勿用。象曰：潜龙勿用，阳在下也。白话文解释初九：潜藏的龙，无法施展。《象辞》说：潜藏的龙，无法施展，因为初九阳爻处在一卦的下位，所以压抑难伸。\n",
      "\n",
      "北宋易学家邵雍解平：得此爻者，宜沉稳待机，若一动作即生灾疾，谋事不利，谨防小人。做官的会有阻力。经商的会有阻滞。女命则兴家业，孕生子。\n",
      "\n",
      "台湾国学大儒傅佩荣解时运：培养实力，等待机会。财运：宜守不宜攻。家宅：娶妻小心。身体：保养为宜。\n",
      "\n",
      "初九变卦初九爻动变得周易第44卦：天风姤。这个卦是异卦（下巽上乾）相叠。乾为天，巽为风。天下有风，吹遍大地，阴阳交合，万物茂盛。姤（gǒu）卦与夬卦相反，互为“综卦”。姤即媾，阴阳相遇。但五阳一阴，不能长久相处。\n",
      "\n",
      "九二爻辞九二。见龙在田，利见大人。象曰：见龙在田，德施普也。白话文解释九二：龙出现在大地上，有利于会见贵族王公。《象辞》说：龙出现在大地上，喻指君子走出了压抑的低谷，正开始谋取能够广泛施予德泽的社会地位。\n",
      "\n",
      "北宋易学家邵雍解吉：得此爻者，会得到贵人的提拔。做官的会遇到明主，身居要职。读书人考试能获得佳绩。经商者获利。女命逢之，则又富又贵。\n",
      "\n",
      "台湾国学大儒傅佩荣解时运：得贵人之助，有发展机会。财运：开始涨价，官方采购。家宅：婚姻大吉。身体：运动健身。\n",
      "\n",
      "九二变卦九二爻动变得周易第13卦：天火同人。这个卦是异卦（下离上乾）相叠，乾为天，为君；离为火，为臣民百姓，上天下火，火性上升，同于天，上下和同，同舟共济，人际关系和谐，天下大同。\n",
      "\n",
      "九三爻辞九三。君子终日乾乾，夕惕若；厉，无咎。象曰：终日乾乾，反复道也。白话文解释九三：有才德的君子始终是白天勤奋努力，夜晚戒惧反省，虽然处境艰难，但终究没有灾难。《象辞》说：君子整日里勤奋努力，意思是反复行道，坚持不舍。\n",
      "\n",
      "北宋易学家邵雍解平：得此爻者，会往来不停，财利难获，凡事不认真计划，躁动者会有损失。做官的会身兼重职，且事多繁冗，如果能保持忧虑和谨慎的态度则没有过失。女命逢之，性躁，难成为贤内助。\n",
      "\n",
      "台湾国学大儒傅佩荣解时运：功名未显，戒慎免咎。财运：日夜防范，可脱险获利。家宅：勤俭保家；不宜攀结高亲。身体：小心保养。\n",
      "\n",
      "九三变卦九三爻动变得周易第10卦：天泽履。这个卦是异卦（下兑上乾）相叠，乾为天，兑为泽，以天喻君，以泽喻民，原文：“履（踩）虎尾，不咥（咬）人”。因此，结果吉利。君上民下，各得其位。兑柔遇乾刚，所履危。履意为实践，卦义是脚踏实地的向前进取的意思。\n",
      "\n",
      "九四爻辞九四。或跃在渊，无咎。象曰：或跃在渊，进无咎也。白话文解释九四：龙也许跳进深潭，没有灾难。《象辞》说：龙也许跳进深潭，表示可以有所作为而没有灾难。\n",
      "\n",
      "北宋易学家邵雍解平：得此爻者，百为艰难。做官的会停缺待职，等待机会。女命逢之，则安乐富贵也。\n",
      "\n",
      "台湾国学大儒傅佩荣解时运：一举成名。财运：物价高涨，可保无咎。家宅：有一时振兴之象。身体：继续健身。\n",
      "\n",
      "九四变卦九四爻动变得周易第9卦：风天小畜。这个卦是异卦（下乾上巽）相叠，乾为天，巽为风。喻风调雨顺，谷物滋长，故卦名小畜（蓄）。力量有限，须待发展到一定程度，才可大有作为。\n",
      "\n",
      "九五爻辞九五。飞龙在天，利见大人。象曰：飞龙在天，大人造也。白话文解释九五：龙飞腾在空中，有利于会见贵族王公。《象辞》说：龙飞腾在空中，意味着君子大有所为。\n",
      "\n",
      "北宋易学家邵雍解吉：得此爻者，会遇到贵人，谋遂志得。做官的会飞黄腾达。女命则兼男权，难免孤独。\n",
      "\n",
      "台湾国学大儒傅佩荣解时运：直上云霄。财运：五谷之类的贸易，物价飞升，有官府支持。家宅：富贵之家。身体：蒙天所召，不吉。\n",
      "\n",
      "九五变卦九五爻动变得周易第14卦：火天大有。这个卦是异卦（下乾上离）相叠。上卦为离，为火；下卦为乾，为天。火在天上，普照万物，万民归顺，顺天依时，大有所成。\n",
      "\n",
      "上九爻辞上九。亢龙有悔。象曰：亢龙有悔，盈不可久也。白话文解释上九：升腾到极限的龙会有灾祸之困。《象辞》说：升腾到极限的龙会有灾祸之困，这是警戒人们崇高、盈满是不可能长久保持的。\n",
      "\n",
      "北宋易学家邵雍解凶：得此爻者，有过刚取凶之祸，五十以后者不寿。做官的会退职，或遭贬。女命逢之，其性必悍，难成为贤内助。\n",
      "\n",
      "台湾国学大儒傅佩荣解时运：由满招损，退而自省。财运：过盈则必有亏。家宅：婚嫁不利。身体：命在旦夕。\n",
      "\n",
      "上九变卦上九爻动变得周易第43卦：泽天夬。这个卦是异卦（下乾上兑）相叠。乾为天为健；兑为泽为悦。泽气上升，决注成雨，雨施大地，滋润万物。五阳去一阴，去之不难，决（去之意）即可，故名为夬（guài），夬即决。\n",
      "\n",
      "\n"
     ]
    }
   ],
   "source": [
    "print dtext.values()[0]"
   ]
  },
  {
   "cell_type": "code",
   "execution_count": 21,
   "metadata": {
    "collapsed": false
   },
   "outputs": [
    {
     "data": {
      "text/plain": [
       "1"
      ]
     },
     "execution_count": 21,
     "metadata": {},
     "output_type": "execute_result"
    }
   ],
   "source": [
    "1"
   ]
  }
 ],
 "metadata": {
  "kernelspec": {
   "display_name": "Python 2",
   "language": "python",
   "name": "python2"
  },
  "language_info": {
   "codemirror_mode": {
    "name": "ipython",
    "version": 2
   },
   "file_extension": ".py",
   "mimetype": "text/x-python",
   "name": "python",
   "nbconvert_exporter": "python",
   "pygments_lexer": "ipython2",
   "version": "2.7.10"
  }
 },
 "nbformat": 4,
 "nbformat_minor": 0
}
