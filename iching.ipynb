{
 "cells": [
  {
   "cell_type": "markdown",
   "metadata": {},
   "source": [
    "#蓍草卜卦 "
   ]
  },
  {
   "cell_type": "markdown",
   "metadata": {},
   "source": [
    "大衍之数五十，其用四十有九。分而为二以象两，挂一以象三，揲之以四以象四时，归奇于扐以象闰。五岁再闰，故再扐而后挂。天一，地二；天三，地四；天五，地六；天七，地八；天九，地十。天数五，地数五。五位相得而各有合，天数二十有五，地数三十，凡天地之数五十有五，此所以成变化而行鬼神也。乾之策二百一十有六，坤之策百四十有四，凡三百六十，当期之日。二篇之策，万有一千五百二十，当万物之数也。是故四营而成《易》，十有八变而成卦，八卦而小成。引而伸之，触类而长之，天下之能事毕矣。显道神德行，是故可与酬酢，可与祐神矣。子曰：“知变化之道者，其知神之所为乎。”\n",
    "\n",
    "大衍之数五十，存一不用，构造天地人三者，历经三变，第一次的余数是5或9，第二次的是4或8，第三次的是4或8，剩下的数量除以4就是结果。即为一爻，算六爻要一个小时。古人构造随机数的方法太费时间啦。用Python写个程序来搞吧！"
   ]
  },
  {
   "cell_type": "code",
   "execution_count": 33,
   "metadata": {
    "collapsed": true
   },
   "outputs": [],
   "source": [
    "import random"
   ]
  },
  {
   "cell_type": "code",
   "execution_count": 31,
   "metadata": {
    "collapsed": true
   },
   "outputs": [],
   "source": [
    "def sepSkyEarth(data):\n",
    "    sky =  random.randint(1, data-2)  \n",
    "    earth = data - sky\n",
    "    earth -= 1\n",
    "    return sky , earth\n",
    "\n",
    "\n",
    "def getRemainder(num):\n",
    "    rm = num % 4\n",
    "    if rm == 0:\n",
    "        rm = 4\n",
    "    return rm\n",
    "\n",
    "def getChange(data):\n",
    "    sky, earth = sepSkyEarth(data)\n",
    "    skyRemainder = getRemainder(sky)\n",
    "    earthRemainder = getRemainder(earth)\n",
    "    change = skyRemainder + earthRemainder + 1\n",
    "    data = data - change\n",
    "    return sky, earth, change, data\n",
    "\n",
    "def getYao(data):\n",
    "    sky, earth, firstChange, data = getChange(data)\n",
    "    sky, earth, secondChange, data = getChange(data)\n",
    "    sky, earth, thirdChange, data = getChange(data)\n",
    "    yao  = data/4\n",
    "    return yao, firstChange, secondChange, thirdChange\n",
    "\n",
    "def sixYao():\n",
    "    yao1 = getYao(data = 50 - 1)[0]\n",
    "    yao2 = getYao(data = 50 - 1)[0]\n",
    "    yao3 = getYao(data = 50 - 1)[0]\n",
    "    yao4 = getYao(data = 50 - 1)[0]\n",
    "    yao5 = getYao(data = 50 - 1)[0]\n",
    "    yao6 = getYao(data = 50 - 1)[0]\n",
    "    return[yao1, yao2, yao3, yao4, yao5, yao6]\n",
    "\n",
    "def fixYao(num):\n",
    "    if num == 6 or num == 9:\n",
    "        print \"there is a changing predict! Also run changePredict()\"\n",
    "    return num % 2\n",
    "    \n",
    "\n",
    "def changeYao(num):\n",
    "    if num == 6:\n",
    "        num = 1\n",
    "    elif num == 9:\n",
    "        num = 2\n",
    "    num = num % 2\n",
    "    return(num)\n",
    "\n",
    "def fixPredict(pred):\n",
    "    fixprd = [fixYao(i) for i in pred]\n",
    "    fixprd = list2str(fixprd)\n",
    "    return fixprd\n",
    "\n",
    "def list2str(l):\n",
    "    si = ''\n",
    "    for i in l:\n",
    "        si = si +  str(i)\n",
    "    return si\n",
    "\n",
    "def changePredict(pred):\n",
    "    changeprd = [changeYao(i) for i in pred]\n",
    "    changeprd = list2str(changeprd)\n",
    "    return changeprd\n",
    "\n",
    "def getPredict():\n",
    "    pred = sixYao()\n",
    "    fixPred = fixPredict(pred)\n",
    "    if 6 in pred or 9 in pred:\n",
    "        changePred = changePredict(pred)\n",
    "    else:\n",
    "        changePred = None\n",
    "    return fixPred, changePred  \n",
    "\n",
    "def interpretPredict(now, future):\n",
    "    dt = {'111111':'乾','011111':'夬','000000':'坤','010001':'屯','100010':'蒙','010111':'需','111010':'讼','000010':'师',\n",
    "'010000':'比','110111':'小畜','111011':'履','000111':'泰','111000':'否','111101':'同人','10111':'大有','000100':'谦',\n",
    "'001000':'豫','011001':'随','100110':'蛊','000011':'临','110000':'观','101001':'噬嗑','100101':'贲','100000':'剥',\n",
    "'000001':'复','111001':'无妄','100111':'大畜','100001':'颐','011110':'大过','010010':'坎','101101':'离','011100':'咸',\n",
    "'001110':'恒','111100':'遁','001111':'大壮','101000':'晋','000101':'明夷','110101':'家人','101011':'睽','010100':'蹇',\n",
    "'001010':'解','100011':'损','110001':'益','111110':'姤','011000':'萃','000110':'升','011010':'困','010110':'井',\n",
    "'011101':'革','101110':'鼎','001001':'震','100100':'艮','110100':'渐','001011':'归妹','001101':'丰','101100':'旅',\n",
    "'110110':'巽','011011':'兑','110010':'涣','010011':'节','110011':'中孚','001100':'小过','010101':'既济','101010':'未济'}\n",
    "    if future:\n",
    "        name = dt[now] + ' & ' + dt[future]\n",
    "    else:\n",
    "        name = dt[now]\n",
    "    print name"
   ]
  },
  {
   "cell_type": "markdown",
   "metadata": {},
   "source": [
    "#大衍之数五十，存一不用"
   ]
  },
  {
   "cell_type": "code",
   "execution_count": 104,
   "metadata": {
    "collapsed": false
   },
   "outputs": [],
   "source": [
    "data = 50 - 1"
   ]
  },
  {
   "cell_type": "markdown",
   "metadata": {},
   "source": [
    "###一变"
   ]
  },
  {
   "cell_type": "code",
   "execution_count": 105,
   "metadata": {
    "collapsed": false
   },
   "outputs": [
    {
     "name": "stdout",
     "output_type": "stream",
     "text": [
      "32 \n",
      "16 \n",
      "9 \n",
      "40\n"
     ]
    }
   ],
   "source": [
    "sky, earth, firstChange, data = getChange(data)\n",
    "print sky, '\\n', earth, '\\n',firstChange, '\\n', data"
   ]
  },
  {
   "cell_type": "markdown",
   "metadata": {},
   "source": [
    "###二变"
   ]
  },
  {
   "cell_type": "code",
   "execution_count": 106,
   "metadata": {
    "collapsed": false
   },
   "outputs": [
    {
     "name": "stdout",
     "output_type": "stream",
     "text": [
      "15 \n",
      "24 \n",
      "8 \n",
      "32\n"
     ]
    }
   ],
   "source": [
    "sky, earth, secondChange, data = getChange(data)\n",
    "print sky, '\\n', earth, '\\n',secondChange, '\\n', data"
   ]
  },
  {
   "cell_type": "markdown",
   "metadata": {},
   "source": [
    "###三变"
   ]
  },
  {
   "cell_type": "code",
   "execution_count": 107,
   "metadata": {
    "collapsed": false
   },
   "outputs": [
    {
     "name": "stdout",
     "output_type": "stream",
     "text": [
      "10 \n",
      "21 \n",
      "4 \n",
      "28\n"
     ]
    }
   ],
   "source": [
    "sky, earth, thirdChange, data = getChange(data)\n",
    "print sky, '\\n', earth, '\\n',thirdChange, '\\n', data"
   ]
  },
  {
   "cell_type": "markdown",
   "metadata": {},
   "source": [
    "#得到六爻及变卦"
   ]
  },
  {
   "cell_type": "code",
   "execution_count": 234,
   "metadata": {
    "collapsed": false
   },
   "outputs": [
    {
     "name": "stdout",
     "output_type": "stream",
     "text": [
      "there is a changing predict! Also run changePredict()\n",
      "there is a changing predict! Also run changePredict()\n",
      "there is a changing predict! Also run changePredict()\n"
     ]
    },
    {
     "data": {
      "text/plain": [
       "('110101', '000001')"
      ]
     },
     "execution_count": 234,
     "metadata": {},
     "output_type": "execute_result"
    }
   ],
   "source": [
    "getPredict()"
   ]
  },
  {
   "cell_type": "code",
   "execution_count": 233,
   "metadata": {
    "collapsed": false
   },
   "outputs": [
    {
     "name": "stdout",
     "output_type": "stream",
     "text": [
      "there is a changing predict! Also run changePredict()\n",
      "there is a changing predict! Also run changePredict()\n",
      "there is a changing predict! Also run changePredict()\n"
     ]
    },
    {
     "data": {
      "text/plain": [
       "('011110', '110100')"
      ]
     },
     "execution_count": 233,
     "metadata": {},
     "output_type": "execute_result"
    }
   ],
   "source": [
    "getPredict()"
   ]
  },
  {
   "cell_type": "code",
   "execution_count": 251,
   "metadata": {
    "collapsed": false
   },
   "outputs": [
    {
     "data": {
      "text/plain": [
       "('101100', None)"
      ]
     },
     "execution_count": 251,
     "metadata": {},
     "output_type": "execute_result"
    }
   ],
   "source": [
    "getPredict()"
   ]
  },
  {
   "cell_type": "markdown",
   "metadata": {},
   "source": [
    "#得到卦名"
   ]
  },
  {
   "cell_type": "code",
   "execution_count": 232,
   "metadata": {
    "collapsed": false
   },
   "outputs": [
    {
     "name": "stdout",
     "output_type": "stream",
     "text": [
      "there is a changing predict! Also run changePredict()\n",
      "屯 & 比\n"
     ]
    }
   ],
   "source": [
    "fixPred, changePred   = getPredict()\n",
    "interpretPredict(fixPred, changePred  )"
   ]
  },
  {
   "cell_type": "code",
   "execution_count": 1,
   "metadata": {
    "collapsed": false
   },
   "outputs": [],
   "source": [
    "\n",
    "#http://baike.fututa.com/zhouyi64gua/\n",
    "\n",
    "import urllib2\n",
    "from bs4 import BeautifulSoup\n",
    "import os\n",
    "\n",
    "# set work directory\n",
    "os.chdir('/Users/chengjun/github/iching/')\n",
    "\n",
    "dt = {'111111':'乾','011111':'夬','000000':'坤','010001':'屯','100010':'蒙','010111':'需','111010':'讼','000010':'师',\n",
    "    '010000':'比','110111':'小畜','111011':'履','000111':'泰','111000':'否','111101':'同人','10111':'大有','000100':'谦',\n",
    "    '001000':'豫','011001':'随','100110':'蛊','000011':'临','110000':'观','101001':'噬嗑','100101':'贲','100000':'剥',\n",
    "    '000001':'复','111001':'无妄','100111':'大畜','100001':'颐','011110':'大过','010010':'坎','101101':'离','011100':'咸',\n",
    "    '001110':'恒','111100':'遁','001111':'大壮','101000':'晋','000101':'明夷','110101':'家人','101011':'睽','010100':'蹇',\n",
    "    '001010':'解','100011':'损','110001':'益','111110':'姤','011000':'萃','000110':'升','011010':'困','010110':'井',\n",
    "    '011101':'革','101110':'鼎','001001':'震','100100':'艮','110100':'渐','001011':'归妹','001101':'丰','101100':'旅',\n",
    "    '110110':'巽','011011':'兑','110010':'涣','010011':'节','110011':'中孚','001100':'小过','010101':'既济','101010':'未济'}\n",
    "\n",
    "\n",
    "dr = {}\n",
    "for i, j in dt.iteritems():\n",
    "    dr[unicode(j, 'utf8')]= i"
   ]
  },
  {
   "cell_type": "code",
   "execution_count": 2,
   "metadata": {
    "collapsed": false
   },
   "outputs": [],
   "source": [
    "url = \"http://baike.fututa.com/zhouyi64gua/\"\n",
    "content = urllib2.urlopen(url).read() #获取网页的html文本\n",
    "soup = BeautifulSoup(content) \n",
    "articles = soup.find_all('div', {'class', 'gualist'})[0].find_all('a')\n",
    "links = [i['href'] for i in articles]\n",
    "\n"
   ]
  },
  {
   "cell_type": "code",
   "execution_count": 3,
   "metadata": {
    "collapsed": false
   },
   "outputs": [
    {
     "data": {
      "text/plain": [
       "[u'http://baike.fututa.com/a5738', u'http://baike.fututa.com/a5739']"
      ]
     },
     "execution_count": 3,
     "metadata": {},
     "output_type": "execute_result"
    }
   ],
   "source": [
    "links[:2]"
   ]
  },
  {
   "cell_type": "code",
   "execution_count": 10,
   "metadata": {
    "collapsed": false
   },
   "outputs": [
    {
     "name": "stdout",
     "output_type": "stream",
     "text": [
      "http://baike.fututa.com/a5738 done\n",
      "http://baike.fututa.com/a5739 done\n",
      "http://baike.fututa.com/a5740 done\n",
      "http://baike.fututa.com/a5741 done\n",
      "http://baike.fututa.com/a5742 done\n",
      "http://baike.fututa.com/a5743 done\n",
      "http://baike.fututa.com/a5744 done\n",
      "http://baike.fututa.com/a5745 done\n",
      "http://baike.fututa.com/a5746 done\n",
      "http://baike.fututa.com/a5747 done\n",
      "http://baike.fututa.com/a5748 done\n",
      "http://baike.fututa.com/a5749 done\n",
      "http://baike.fututa.com/a5750 done\n",
      "http://baike.fututa.com/a5751 done\n",
      "http://baike.fututa.com/a5752 done\n",
      "http://baike.fututa.com/a5753 done\n",
      "http://baike.fututa.com/a5754 done\n",
      "http://baike.fututa.com/a5755 done\n",
      "http://baike.fututa.com/a5756 done\n",
      "http://baike.fututa.com/a5757 done\n",
      "http://baike.fututa.com/a5758 done\n",
      "http://baike.fututa.com/a5759 done\n",
      "http://baike.fututa.com/a5760 done\n",
      "http://baike.fututa.com/a5761 done\n",
      "http://baike.fututa.com/a5762 done\n",
      "http://baike.fututa.com/a5763 done\n",
      "http://baike.fututa.com/a5764 done\n",
      "http://baike.fututa.com/a5765 done\n",
      "http://baike.fututa.com/a5766 done\n",
      "http://baike.fututa.com/a5767 done\n",
      "http://baike.fututa.com/a5768 done\n",
      "http://baike.fututa.com/a5769 done\n",
      "http://baike.fututa.com/a5770 done\n",
      "http://baike.fututa.com/a5771 done\n",
      "http://baike.fututa.com/a5772 done\n",
      "http://baike.fututa.com/a5773 done\n",
      "http://baike.fututa.com/a5774 done\n",
      "http://baike.fututa.com/a5775 done\n",
      "http://baike.fututa.com/a5776 done\n",
      "http://baike.fututa.com/a5777 done\n",
      "http://baike.fututa.com/a5778 done\n",
      "http://baike.fututa.com/a5779 done\n",
      "http://baike.fututa.com/a5780 done\n",
      "http://baike.fututa.com/a5781 done\n",
      "http://baike.fututa.com/a5782 done\n",
      "http://baike.fututa.com/a5783 done\n",
      "http://baike.fututa.com/a5784 done\n",
      "http://baike.fututa.com/a5785 done\n",
      "http://baike.fututa.com/a5786 done\n",
      "http://baike.fututa.com/a5787 done\n",
      "http://baike.fututa.com/a5788 done\n",
      "http://baike.fututa.com/a5789 done\n",
      "http://baike.fututa.com/a5790 done\n",
      "http://baike.fututa.com/a5791 done\n",
      "http://baike.fututa.com/a5792 done\n",
      "http://baike.fututa.com/a5793 done\n",
      "http://baike.fututa.com/a5794 done\n",
      "http://baike.fututa.com/a5795 done\n",
      "http://baike.fututa.com/a5796 done\n",
      "http://baike.fututa.com/a5797 done\n",
      "http://baike.fututa.com/a5798 done\n",
      "http://baike.fututa.com/a5799 done\n",
      "http://baike.fututa.com/a5800 done\n",
      "http://baike.fututa.com/a5801 done\n"
     ]
    }
   ],
   "source": [
    "dtext = {}\n",
    "\n",
    "from time import sleep\n",
    "\n",
    "for j in links:\n",
    "    sleep(0.5)\n",
    "    ghtml = urllib2.urlopen(j).read() #获取网页的html文本\n",
    "    print j, 'done'\n",
    "    gua = BeautifulSoup(ghtml) \n",
    "    guaName =  gua.title.text.split('_')[1].split(u'卦')[0]\n",
    "    guaId = dr[guaName]\n",
    "    guawen = gua.find_all('div', {'class', 'gua_wen'})\n",
    "    guaText = []\n",
    "    for i in guawen:\n",
    "        guaText.append(i.get_text() + '\\n\\n')\n",
    "    guaText = ''.join(guaText)\n",
    "    dtext[guaId] = guaText"
   ]
  },
  {
   "cell_type": "code",
   "execution_count": 11,
   "metadata": {
    "collapsed": false
   },
   "outputs": [
    {
     "data": {
      "text/plain": [
       "64"
      ]
     },
     "execution_count": 11,
     "metadata": {},
     "output_type": "execute_result"
    }
   ],
   "source": [
    "len(dtext)"
   ]
  },
  {
   "cell_type": "code",
   "execution_count": 17,
   "metadata": {
    "collapsed": false
   },
   "outputs": [],
   "source": [
    "import json\n",
    "json.dump(dtext, open(\"/Users/chengjun/github/iching/ichingtext.txt\",'w'))"
   ]
  },
  {
   "cell_type": "code",
   "execution_count": 18,
   "metadata": {
    "collapsed": true
   },
   "outputs": [],
   "source": [
    "import pkgutil\n"
   ]
  },
  {
   "cell_type": "code",
   "execution_count": 20,
   "metadata": {
    "collapsed": false
   },
   "outputs": [],
   "source": [
    "data = pkgutil.get_data('iching', 'package_data.dat')"
   ]
  },
  {
   "cell_type": "code",
   "execution_count": 24,
   "metadata": {
    "collapsed": false
   },
   "outputs": [],
   "source": [
    "dat = json.load(open('iching/package_data.dat'))"
   ]
  },
  {
   "cell_type": "code",
   "execution_count": 35,
   "metadata": {
    "collapsed": false
   },
   "outputs": [
    {
     "name": "stdout",
     "output_type": "stream",
     "text": [
      "there is a changing predict! Also run changePredict()\n"
     ]
    }
   ],
   "source": [
    "now, future = getPredict()"
   ]
  },
  {
   "cell_type": "code",
   "execution_count": 38,
   "metadata": {
    "collapsed": false
   },
   "outputs": [],
   "source": [
    "def ichingText(k):\n",
    "    import json\n",
    "    dat = json.load(open('iching/package_data.dat'))\n",
    "    print dat[k]"
   ]
  },
  {
   "cell_type": "code",
   "execution_count": 40,
   "metadata": {
    "collapsed": false
   },
   "outputs": [
    {
     "name": "stdout",
     "output_type": "stream",
     "text": [
      "既济卦原文既济。亨，小利贞，初吉终乱。象曰：水在火上，既济。君子以思患而预防之。白话文解释既济卦：亨通。这是小见吉利的贞卜。起初吉利，最后将发生变故。《象辞》说：本卦上卦为坎，坎为水；下卦为离，离为火。水上火下，水浇火熄，是既济之卦的卦象。君子观此卦象，从而有备于无患之时，防范于未然之际。\n",
      "\n",
      "《断易天机》解既济卦坎上离下，为坎宫三世卦。既济就是说已经成功，事情已经摆平。但还需谨慎，当心物极必反。\n",
      "\n",
      "北宋易学家邵雍解济助有成，坚忍自重；由大而小，确保盛运。得此卦者，事业有成，成功之象，但谨防盛极必衰，宜退守为吉，再进则凶。\n",
      "\n",
      "台湾国学大儒傅佩荣解时运：盛极必衰，谨防后患。财运：及时出手，可得利润。家宅：大厦可居；百年好合。身体：大病初愈，仍需自理。\n",
      "\n",
      "传统解卦这个卦是异卦（下离上坎）相叠。坎为水，离为火，水火相交，水在火上，水势压倒火势，救火大功告成。既，已经；济，成也。既济就是事情已经成功，但终将发生变故。大象：坎水在离火之上，水性下注，火势上炎，水火相济，完成之意。运势：名利双收，成功之象，但须防物极必反，初吉后凶。事业：处在顺利和兴旺的阶段，甚至大功已经告成。如何才能保住这种势头，是问题的关键。必须认识盛极将衰的真理，思患预防，防微杜渐，有备可无患。同时，一定要密切注意形势，抓住有利时机，继续奋发向上，推动事业发展。经商：由于市场形势有利，已经赚得许多，但同时也预示着危机的随时出现。因此，务必小心在意，事未到，先预防，终日提防戒惧。同时，认真观察市场的变化，随时转向，开拓新市场。求名：个人追求名利的基本条件已经具备。必须防止因此而变得僵化和保守，以致功亏一篑，半途而废。婚恋：起初顺利，中途会出现挫折。决策：各方面条件都很好，环境又有利于成长。但因此反而会使自己满足，停止前进，甚至变得颓废，趋向没落。一定要不断刻苦努力，保持谦虚美德，常怀不安之心，防止不测事件发生。\n",
      "\n",
      "台湾张铭仁解卦既济：表示水火阴阳调和，一时平安和乐之象。水火本相克，因一时环境或人事所影响，而暂时相安无事，但终非常久之象，必有所冲克而败。解释：已经得到利益，不可贪得无厌。特性：物质丰盛，但精神易空虚，外华内虚，交际广，知心少，心思细腻，多愁善感，喜宁静的生活。运势：功名双收。极盛之时，但须知物极必反，宜退守为吉，再进则凶。但得此卦者，皆有因一时顺利而忘本，大意失荆州，终有人不和、心迷乱之象。家运：生在富家之象，受祖上恩泽而不知珍惜者多，终而破运之兆。疾病：短期虽有好转，但好景不常。胎孕：不安。子女：初时幸福，长大后与双亲不和，慎之。周转：短期可成，长期无望。买卖：中途变卦不利。故初时见好就收，莫贪心拖延，否则不利。等人：已中途折回，不必再等。寻人：若是常出走之人，小时自回，长大再出走，难寻。甚或不回。失物：应可寻回。外出：利于出行，途中需注意安全。考试：实力有，但需视考期之日吉凶而定，小吉。诉讼：有理说不清，仍须把握最有利时机争取主动，迟则反见凶。求事：紧急可，不宜长久。改行：不宜。开业：开业者最好慎重​​考虑，因此卦象好景不常。\n",
      "\n",
      "初九爻辞初九。曳其轮，濡其尾，无咎。象曰：曳其轮，义无咎也。白话文解释初九：提着腰带过河，打湿了衣尾。没有大问题。《象辞》说：提着腰带过河，打湿了衣尾，理应无灾难。\n",
      "\n",
      "北宋易学家邵雍解平：得此爻者，时运未到，欲动未动，安保无虞。做官的有职未受，有位未登。\n",
      "\n",
      "台湾国学大儒傅佩荣解时运：奋勉有加，可以无咎。财运：暂时稳住，将可脱困。家宅：可以安居；初聘为吉。身体：初病可治。\n",
      "\n",
      "初九变卦初九爻动变得周易第39卦：水山蹇。这个卦是异卦（下艮上坎）相叠。坎为水，艮为山。山高水深，困难重重，人生险阻，见险而止，明哲保身，可谓智慧。蹇，跋行艰难。\n",
      "\n",
      "六二爻辞六二。妇丧其茀，勿逐，七日得。象曰：七日得，以中道也。白话文解释六二：妇人丢失了头巾，不用寻找，七日内可以不寻而得。《象辞》说：七日内可以不寻而得，因为六二阴爻居阴位，位象既得，失物将还。\n",
      "\n",
      "北宋易学家邵雍解平：得此爻者，先难后易，做官的有先逆后顺之美。\n",
      "\n",
      "台湾国学大儒傅佩荣解时运：不计小利，得成大功。财运：失而复得，不必担心。家宅：七年可还；将可团聚。身体：七日可愈。\n",
      "\n",
      "六二变卦六二爻动变得周易第5卦：水天需。这个卦是异卦（下乾上坎）相叠，下卦是乾，刚健之意；上卦是坎，险陷之意。以刚逢险，宜稳健之妥，不可冒失行动，观时待变，所往一定成功。\n",
      "\n",
      "九三爻辞九三。高宗伐鬼方，三年克之。小人勿用。象曰：三年克之，惫也。白话文解释九三：高宗讨伐鬼方，费时三年才打败它。筮遇此爻，不可重用小人。《象辞》说：费时三年才打败它，因为鬼方这时已疲惫不堪。\n",
      "\n",
      "北宋易学家邵雍解凶：得此爻者，有结怨争诉之损。做官的多差遣征伐之举。\n",
      "\n",
      "台湾国学大儒傅佩荣解时运：努力工作，所谋必成。财运：数年经营，才可获利。家宅：三年后居；三年可婚。身体：一时无恙，只保三年。\n",
      "\n",
      "九三变卦九三爻动变得周易第3卦：水雷屯。这个卦是异卦（下震上坎）相叠，震为雷，喻动；坎为雨，喻险。雷雨交加，险象丛生，环境恶劣。“屯”原指植物萌生大地，万物始生，充满艰难险阻，然而顺时应运，必欣欣向荣。\n",
      "\n",
      "六四爻辞六四。繻有衣袽，终日戒。象曰：终日戒，有所疑也。白话文解释六四：撑着用败絮塞罅漏的船，整日里提心吊胆。《象辞》说：整日里提心吊胆，说明心中疑虑重重。\n",
      "\n",
      "北宋易学家邵雍解平：得此爻者，时运平平，有备则无患。做官的须做好预防，则爵禄稳固。\n",
      "\n",
      "台湾国学大儒傅佩荣解时运：处顺思困，谨慎为宜。财运：经营漏洞，早些修补。家宅：修正屋宇；珍惜情谊。身体：年老体弱。\n",
      "\n",
      "六四变卦六四爻动变得周易第49卦：泽火革。这个卦是异卦（下离上兑）相叠。离为火、兑为泽，泽内有水。水在上而下浇，火在下而上升。火旺水干，水大火熄。二者相生亦相克，必然出现变革。变革是宇宙的基本规律。\n",
      "\n",
      "九五爻辞九五。东邻杀牛，不如西郊之禴祭，实受其福。象曰：东邻杀牛，不如西邻之时也。实受其福，吉大来也。白话文解释九五：殷人杀牛厚祭鬼神，不如周人簿祭鬼神，周人倒是得到鬼神的福佑。《象辞》说：殷人杀牛厚祭鬼神，不如周人薄祭鬼神的用意美善，周人得到鬼神的福佑，将有重大的吉庆降临。\n",
      "\n",
      "北宋易学家邵雍解吉：得此爻者，近谋有实，远谋多虚，不利东方，利于西方。\n",
      "\n",
      "台湾国学大儒傅佩荣解时运：持盈保泰，吉凶自取。财运：奢不如俭，实获其利。家宅：向西吉宅；两邻订亲。身体：最好祷告。\n",
      "\n",
      "九五变卦九五爻动变得周易第36卦：地火明夷。这个卦是异卦（下离上坤）相叠。离为明，坤为顺；离为日；坤为地。日没入地，光明受损，前途不明，环境困难，宜遵时养晦，坚守正道，外愚内慧，韬光养晦。\n",
      "\n",
      "上六爻辞上六。濡其首，厉。象曰：濡其首厉，何可久也。白话文解释上六：涉水过河，水拍湿其头部，危险。《象辞》说：水拍湿其头部，怎能呆很久的时间呢？\n",
      "\n",
      "北宋易学家邵雍解凶：得此爻者，小人侵扰，坐船者，防溺水之灾。做官的有过刚则折之忧。\n",
      "\n",
      "台湾国学大儒傅佩荣解时运：好运已过，小心危险。财运：首次买卖，必难获利。家宅：不利长房；元配有灾。身体：头部有疾，危险可知。\n",
      "\n",
      "上六变卦上六爻动变得周易第37卦：风火家人。这个卦是异卦（下离上巽）相叠。离为火；巽为风。火使热气上升，成为风。一切事物皆应以内在为本，然后伸延到外。发生于内，形成于外。喻先治家而后治天下，家道正，天下安乐。\n",
      "\n",
      "\n"
     ]
    }
   ],
   "source": [
    "ichingText(future)"
   ]
  }
 ],
 "metadata": {
  "kernelspec": {
   "display_name": "Python 2",
   "language": "python",
   "name": "python2"
  },
  "language_info": {
   "codemirror_mode": {
    "name": "ipython",
    "version": 2
   },
   "file_extension": ".py",
   "mimetype": "text/x-python",
   "name": "python",
   "nbconvert_exporter": "python",
   "pygments_lexer": "ipython2",
   "version": "2.7.10"
  }
 },
 "nbformat": 4,
 "nbformat_minor": 0
}
