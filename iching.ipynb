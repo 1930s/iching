{
 "cells": [
  {
   "cell_type": "markdown",
   "metadata": {},
   "source": [
    "#蓍草卜卦 "
   ]
  },
  {
   "cell_type": "markdown",
   "metadata": {},
   "source": [
    "大衍之数五十，其用四十有九。分而为二以象两，挂一以象三，揲之以四以象四时，归奇于扐以象闰。五岁再闰，故再扐而后挂。天一，地二；天三，地四；天五，地六；天七，地八；天九，地十。天数五，地数五。五位相得而各有合，天数二十有五，地数三十，凡天地之数五十有五，此所以成变化而行鬼神也。乾之策二百一十有六，坤之策百四十有四，凡三百六十，当期之日。二篇之策，万有一千五百二十，当万物之数也。是故四营而成《易》，十有八变而成卦，八卦而小成。引而伸之，触类而长之，天下之能事毕矣。显道神德行，是故可与酬酢，可与祐神矣。子曰：“知变化之道者，其知神之所为乎。”\n",
    "\n",
    "大衍之数五十，存一不用，构造天地人三者，历经三变，第一次的余数是5或9，第二次的是4或8，第三次的是4或8，剩下的数量除以4就是结果。即为一爻，算六爻要一个小时。古人构造随机数的方法太费时间啦。用Python写个程序来搞吧！"
   ]
  },
  {
   "cell_type": "code",
   "execution_count": 3,
   "metadata": {
    "collapsed": true
   },
   "outputs": [],
   "source": [
    "import random"
   ]
  },
  {
   "cell_type": "code",
   "execution_count": 213,
   "metadata": {
    "collapsed": true
   },
   "outputs": [],
   "source": [
    "def sepSkyEarth(data):\n",
    "    sky =  random.randint(1, data-2)  \n",
    "    earth = data - sky\n",
    "    earth -= 1\n",
    "    return sky , earth\n",
    "\n",
    "\n",
    "def getRemainder(num):\n",
    "    rm = num % 4\n",
    "    if rm == 0:\n",
    "        rm = 4\n",
    "    return rm\n",
    "\n",
    "def getChange(data):\n",
    "    sky, earth = sepSkyEarth(data)\n",
    "    skyRemainder = getRemainder(sky)\n",
    "    earthRemainder = getRemainder(earth)\n",
    "    change = skyRemainder + earthRemainder + 1\n",
    "    data = data - change\n",
    "    return sky, earth, change, data\n",
    "\n",
    "def getYao(data):\n",
    "    sky, earth, firstChange, data = getChange(data)\n",
    "    sky, earth, secondChange, data = getChange(data)\n",
    "    sky, earth, thirdChange, data = getChange(data)\n",
    "    yao  = data/4\n",
    "    return yao, firstChange, secondChange, thirdChange\n",
    "\n",
    "def sixYao():\n",
    "    yao1 = getYao(data = 50 - 1)[0]\n",
    "    yao2 = getYao(data = 50 - 1)[0]\n",
    "    yao3 = getYao(data = 50 - 1)[0]\n",
    "    yao4 = getYao(data = 50 - 1)[0]\n",
    "    yao5 = getYao(data = 50 - 1)[0]\n",
    "    yao6 = getYao(data = 50 - 1)[0]\n",
    "    return[yao1, yao2, yao3, yao4, yao5, yao6]\n",
    "\n",
    "def fixYao(num):\n",
    "    if num == 6 or num == 9:\n",
    "        print \"there is a changing predict! Also run changePredict()\"\n",
    "    return num % 2\n",
    "    \n",
    "\n",
    "def changeYao(num):\n",
    "    if num == 6:\n",
    "        num = 1\n",
    "    elif num == 9:\n",
    "        num = 2\n",
    "    num = num % 2\n",
    "    return(num)\n",
    "\n",
    "def fixPredict(pred):\n",
    "    fixprd = [fixYao(i) for i in pred]\n",
    "    fixprd = list2str(fixprd)\n",
    "    return fixprd\n",
    "\n",
    "def list2str(l):\n",
    "    si = ''\n",
    "    for i in l:\n",
    "        si = si +  str(i)\n",
    "    return si\n",
    "\n",
    "def changePredict(pred):\n",
    "    changeprd = [changeYao(i) for i in pred]\n",
    "    changeprd = list2str(changeprd)\n",
    "    return changeprd\n",
    "\n",
    "def getPredict():\n",
    "    pred = sixYao()\n",
    "    fixPred = fixPredict(pred)\n",
    "    if 6 in pred or 9 in pred:\n",
    "        changePred = changePredict(pred)\n",
    "    else:\n",
    "        changePred = None\n",
    "    return fixPred, changePred  \n",
    "\n",
    "def interpretPredict(now, future):\n",
    "    dt = {'111111':'乾','011111':'夬','000000':'坤','010001':'屯','100010':'蒙','010111':'需','111010':'讼','000010':'师',\n",
    "'010000':'比','110111':'小畜','111011':'履','000111':'泰','111000':'否','111101':'同人','10111':'大有','000100':'谦',\n",
    "'001000':'豫','011001':'随','100110':'蛊','000011':'临','110000':'观','101001':'噬嗑','100101':'贲','100000':'剥',\n",
    "'000001':'复','111001':'无妄','100111':'大畜','100001':'颐','011110':'大过','010010':'坎','101101':'离','011100':'咸',\n",
    "'001110':'恒','111100':'遁','001111':'大壮','101000':'晋','000101':'明夷','110101':'家人','101011':'睽','010100':'蹇',\n",
    "'001010':'解','100011':'损','110001':'益','111110':'姤','011000':'萃','000110':'升','011010':'困','010110':'井',\n",
    "'011101':'革','101110':'鼎','001001':'震','100100':'艮','110100':'渐','001011':'归妹','001101':'丰','101100':'旅',\n",
    "'110110':'巽','011011':'兑','110010':'涣','010011':'节','110011':'中孚','001100':'小过','010101':'既济','101010':'未济'}\n",
    "    if future:\n",
    "        name = dt[now] + ' & ' + dt[future]\n",
    "    else:\n",
    "        name = dt[now]\n",
    "    print name"
   ]
  },
  {
   "cell_type": "markdown",
   "metadata": {},
   "source": [
    "#大衍之数五十，存一不用"
   ]
  },
  {
   "cell_type": "code",
   "execution_count": 104,
   "metadata": {
    "collapsed": false
   },
   "outputs": [],
   "source": [
    "data = 50 - 1"
   ]
  },
  {
   "cell_type": "markdown",
   "metadata": {},
   "source": [
    "###一变"
   ]
  },
  {
   "cell_type": "code",
   "execution_count": 105,
   "metadata": {
    "collapsed": false
   },
   "outputs": [
    {
     "name": "stdout",
     "output_type": "stream",
     "text": [
      "32 \n",
      "16 \n",
      "9 \n",
      "40\n"
     ]
    }
   ],
   "source": [
    "sky, earth, firstChange, data = getChange(data)\n",
    "print sky, '\\n', earth, '\\n',firstChange, '\\n', data"
   ]
  },
  {
   "cell_type": "markdown",
   "metadata": {},
   "source": [
    "###二变"
   ]
  },
  {
   "cell_type": "code",
   "execution_count": 106,
   "metadata": {
    "collapsed": false
   },
   "outputs": [
    {
     "name": "stdout",
     "output_type": "stream",
     "text": [
      "15 \n",
      "24 \n",
      "8 \n",
      "32\n"
     ]
    }
   ],
   "source": [
    "sky, earth, secondChange, data = getChange(data)\n",
    "print sky, '\\n', earth, '\\n',secondChange, '\\n', data"
   ]
  },
  {
   "cell_type": "markdown",
   "metadata": {},
   "source": [
    "###三变"
   ]
  },
  {
   "cell_type": "code",
   "execution_count": 107,
   "metadata": {
    "collapsed": false
   },
   "outputs": [
    {
     "name": "stdout",
     "output_type": "stream",
     "text": [
      "10 \n",
      "21 \n",
      "4 \n",
      "28\n"
     ]
    }
   ],
   "source": [
    "sky, earth, thirdChange, data = getChange(data)\n",
    "print sky, '\\n', earth, '\\n',thirdChange, '\\n', data"
   ]
  },
  {
   "cell_type": "markdown",
   "metadata": {},
   "source": [
    "#得到六爻及变卦"
   ]
  },
  {
   "cell_type": "code",
   "execution_count": 234,
   "metadata": {
    "collapsed": false
   },
   "outputs": [
    {
     "name": "stdout",
     "output_type": "stream",
     "text": [
      "there is a changing predict! Also run changePredict()\n",
      "there is a changing predict! Also run changePredict()\n",
      "there is a changing predict! Also run changePredict()\n"
     ]
    },
    {
     "data": {
      "text/plain": [
       "('110101', '000001')"
      ]
     },
     "execution_count": 234,
     "metadata": {},
     "output_type": "execute_result"
    }
   ],
   "source": [
    "getPredict()"
   ]
  },
  {
   "cell_type": "code",
   "execution_count": 233,
   "metadata": {
    "collapsed": false
   },
   "outputs": [
    {
     "name": "stdout",
     "output_type": "stream",
     "text": [
      "there is a changing predict! Also run changePredict()\n",
      "there is a changing predict! Also run changePredict()\n",
      "there is a changing predict! Also run changePredict()\n"
     ]
    },
    {
     "data": {
      "text/plain": [
       "('011110', '110100')"
      ]
     },
     "execution_count": 233,
     "metadata": {},
     "output_type": "execute_result"
    }
   ],
   "source": [
    "getPredict()"
   ]
  },
  {
   "cell_type": "code",
   "execution_count": 251,
   "metadata": {
    "collapsed": false
   },
   "outputs": [
    {
     "data": {
      "text/plain": [
       "('101100', None)"
      ]
     },
     "execution_count": 251,
     "metadata": {},
     "output_type": "execute_result"
    }
   ],
   "source": [
    "getPredict()"
   ]
  },
  {
   "cell_type": "markdown",
   "metadata": {},
   "source": [
    "#得到卦名"
   ]
  },
  {
   "cell_type": "code",
   "execution_count": 232,
   "metadata": {
    "collapsed": false
   },
   "outputs": [
    {
     "name": "stdout",
     "output_type": "stream",
     "text": [
      "there is a changing predict! Also run changePredict()\n",
      "屯 & 比\n"
     ]
    }
   ],
   "source": [
    "fixPred, changePred   = getPredict()\n",
    "interpretPredict(fixPred, changePred  )"
   ]
  }
 ],
 "metadata": {
  "kernelspec": {
   "display_name": "Python 2",
   "language": "python",
   "name": "python2"
  },
  "language_info": {
   "codemirror_mode": {
    "name": "ipython",
    "version": 2
   },
   "file_extension": ".py",
   "mimetype": "text/x-python",
   "name": "python",
   "nbconvert_exporter": "python",
   "pygments_lexer": "ipython2",
   "version": "2.7.10"
  }
 },
 "nbformat": 4,
 "nbformat_minor": 0
}
